{
 "cells": [
  {
   "cell_type": "markdown",
   "id": "e2c5dd08",
   "metadata": {},
   "source": [
    "# Heart Attack Analysis & Prediction:"
   ]
  },
  {
   "cell_type": "markdown",
   "id": "4128dd6e",
   "metadata": {},
   "source": [
    "# Data Preprocessing"
   ]
  },
  {
   "cell_type": "markdown",
   "id": "53a5a401",
   "metadata": {},
   "source": [
    " # Importing the libraries"
   ]
  },
  {
   "cell_type": "code",
   "execution_count": 1,
   "id": "8539b20c",
   "metadata": {},
   "outputs": [],
   "source": [
    "import numpy as np\n",
    "import matplotlib.pyplot as plt\n",
    "import pandas as pd "
   ]
  },
  {
   "cell_type": "markdown",
   "id": "2dc0c5fd",
   "metadata": {},
   "source": [
    "#  Import the data set"
   ]
  },
  {
   "cell_type": "code",
   "execution_count": 2,
   "id": "afcad947",
   "metadata": {},
   "outputs": [],
   "source": [
    "dataset=pd.read_csv('heart.csv')"
   ]
  },
  {
   "cell_type": "code",
   "execution_count": 3,
   "id": "6e2c4085",
   "metadata": {},
   "outputs": [
    {
     "data": {
      "text/html": [
       "<div>\n",
       "<style scoped>\n",
       "    .dataframe tbody tr th:only-of-type {\n",
       "        vertical-align: middle;\n",
       "    }\n",
       "\n",
       "    .dataframe tbody tr th {\n",
       "        vertical-align: top;\n",
       "    }\n",
       "\n",
       "    .dataframe thead th {\n",
       "        text-align: right;\n",
       "    }\n",
       "</style>\n",
       "<table border=\"1\" class=\"dataframe\">\n",
       "  <thead>\n",
       "    <tr style=\"text-align: right;\">\n",
       "      <th></th>\n",
       "      <th>age</th>\n",
       "      <th>sex</th>\n",
       "      <th>cp</th>\n",
       "      <th>trtbps</th>\n",
       "      <th>chol</th>\n",
       "      <th>fbs</th>\n",
       "      <th>restecg</th>\n",
       "      <th>thalachh</th>\n",
       "      <th>exng</th>\n",
       "      <th>oldpeak</th>\n",
       "      <th>slp</th>\n",
       "      <th>caa</th>\n",
       "      <th>thall</th>\n",
       "      <th>output</th>\n",
       "    </tr>\n",
       "  </thead>\n",
       "  <tbody>\n",
       "    <tr>\n",
       "      <th>0</th>\n",
       "      <td>63</td>\n",
       "      <td>1</td>\n",
       "      <td>3</td>\n",
       "      <td>145</td>\n",
       "      <td>233</td>\n",
       "      <td>1</td>\n",
       "      <td>0</td>\n",
       "      <td>150</td>\n",
       "      <td>0</td>\n",
       "      <td>2.3</td>\n",
       "      <td>0</td>\n",
       "      <td>0</td>\n",
       "      <td>1</td>\n",
       "      <td>1</td>\n",
       "    </tr>\n",
       "    <tr>\n",
       "      <th>1</th>\n",
       "      <td>37</td>\n",
       "      <td>1</td>\n",
       "      <td>2</td>\n",
       "      <td>130</td>\n",
       "      <td>250</td>\n",
       "      <td>0</td>\n",
       "      <td>1</td>\n",
       "      <td>187</td>\n",
       "      <td>0</td>\n",
       "      <td>3.5</td>\n",
       "      <td>0</td>\n",
       "      <td>0</td>\n",
       "      <td>2</td>\n",
       "      <td>1</td>\n",
       "    </tr>\n",
       "    <tr>\n",
       "      <th>2</th>\n",
       "      <td>41</td>\n",
       "      <td>0</td>\n",
       "      <td>1</td>\n",
       "      <td>130</td>\n",
       "      <td>204</td>\n",
       "      <td>0</td>\n",
       "      <td>0</td>\n",
       "      <td>172</td>\n",
       "      <td>0</td>\n",
       "      <td>1.4</td>\n",
       "      <td>2</td>\n",
       "      <td>0</td>\n",
       "      <td>2</td>\n",
       "      <td>1</td>\n",
       "    </tr>\n",
       "    <tr>\n",
       "      <th>3</th>\n",
       "      <td>56</td>\n",
       "      <td>1</td>\n",
       "      <td>1</td>\n",
       "      <td>120</td>\n",
       "      <td>236</td>\n",
       "      <td>0</td>\n",
       "      <td>1</td>\n",
       "      <td>178</td>\n",
       "      <td>0</td>\n",
       "      <td>0.8</td>\n",
       "      <td>2</td>\n",
       "      <td>0</td>\n",
       "      <td>2</td>\n",
       "      <td>1</td>\n",
       "    </tr>\n",
       "    <tr>\n",
       "      <th>4</th>\n",
       "      <td>57</td>\n",
       "      <td>0</td>\n",
       "      <td>0</td>\n",
       "      <td>120</td>\n",
       "      <td>354</td>\n",
       "      <td>0</td>\n",
       "      <td>1</td>\n",
       "      <td>163</td>\n",
       "      <td>1</td>\n",
       "      <td>0.6</td>\n",
       "      <td>2</td>\n",
       "      <td>0</td>\n",
       "      <td>2</td>\n",
       "      <td>1</td>\n",
       "    </tr>\n",
       "    <tr>\n",
       "      <th>...</th>\n",
       "      <td>...</td>\n",
       "      <td>...</td>\n",
       "      <td>...</td>\n",
       "      <td>...</td>\n",
       "      <td>...</td>\n",
       "      <td>...</td>\n",
       "      <td>...</td>\n",
       "      <td>...</td>\n",
       "      <td>...</td>\n",
       "      <td>...</td>\n",
       "      <td>...</td>\n",
       "      <td>...</td>\n",
       "      <td>...</td>\n",
       "      <td>...</td>\n",
       "    </tr>\n",
       "    <tr>\n",
       "      <th>298</th>\n",
       "      <td>57</td>\n",
       "      <td>0</td>\n",
       "      <td>0</td>\n",
       "      <td>140</td>\n",
       "      <td>241</td>\n",
       "      <td>0</td>\n",
       "      <td>1</td>\n",
       "      <td>123</td>\n",
       "      <td>1</td>\n",
       "      <td>0.2</td>\n",
       "      <td>1</td>\n",
       "      <td>0</td>\n",
       "      <td>3</td>\n",
       "      <td>0</td>\n",
       "    </tr>\n",
       "    <tr>\n",
       "      <th>299</th>\n",
       "      <td>45</td>\n",
       "      <td>1</td>\n",
       "      <td>3</td>\n",
       "      <td>110</td>\n",
       "      <td>264</td>\n",
       "      <td>0</td>\n",
       "      <td>1</td>\n",
       "      <td>132</td>\n",
       "      <td>0</td>\n",
       "      <td>1.2</td>\n",
       "      <td>1</td>\n",
       "      <td>0</td>\n",
       "      <td>3</td>\n",
       "      <td>0</td>\n",
       "    </tr>\n",
       "    <tr>\n",
       "      <th>300</th>\n",
       "      <td>68</td>\n",
       "      <td>1</td>\n",
       "      <td>0</td>\n",
       "      <td>144</td>\n",
       "      <td>193</td>\n",
       "      <td>1</td>\n",
       "      <td>1</td>\n",
       "      <td>141</td>\n",
       "      <td>0</td>\n",
       "      <td>3.4</td>\n",
       "      <td>1</td>\n",
       "      <td>2</td>\n",
       "      <td>3</td>\n",
       "      <td>0</td>\n",
       "    </tr>\n",
       "    <tr>\n",
       "      <th>301</th>\n",
       "      <td>57</td>\n",
       "      <td>1</td>\n",
       "      <td>0</td>\n",
       "      <td>130</td>\n",
       "      <td>131</td>\n",
       "      <td>0</td>\n",
       "      <td>1</td>\n",
       "      <td>115</td>\n",
       "      <td>1</td>\n",
       "      <td>1.2</td>\n",
       "      <td>1</td>\n",
       "      <td>1</td>\n",
       "      <td>3</td>\n",
       "      <td>0</td>\n",
       "    </tr>\n",
       "    <tr>\n",
       "      <th>302</th>\n",
       "      <td>57</td>\n",
       "      <td>0</td>\n",
       "      <td>1</td>\n",
       "      <td>130</td>\n",
       "      <td>236</td>\n",
       "      <td>0</td>\n",
       "      <td>0</td>\n",
       "      <td>174</td>\n",
       "      <td>0</td>\n",
       "      <td>0.0</td>\n",
       "      <td>1</td>\n",
       "      <td>1</td>\n",
       "      <td>2</td>\n",
       "      <td>0</td>\n",
       "    </tr>\n",
       "  </tbody>\n",
       "</table>\n",
       "<p>303 rows × 14 columns</p>\n",
       "</div>"
      ],
      "text/plain": [
       "     age  sex  cp  trtbps  chol  fbs  restecg  thalachh  exng  oldpeak  slp  \\\n",
       "0     63    1   3     145   233    1        0       150     0      2.3    0   \n",
       "1     37    1   2     130   250    0        1       187     0      3.5    0   \n",
       "2     41    0   1     130   204    0        0       172     0      1.4    2   \n",
       "3     56    1   1     120   236    0        1       178     0      0.8    2   \n",
       "4     57    0   0     120   354    0        1       163     1      0.6    2   \n",
       "..   ...  ...  ..     ...   ...  ...      ...       ...   ...      ...  ...   \n",
       "298   57    0   0     140   241    0        1       123     1      0.2    1   \n",
       "299   45    1   3     110   264    0        1       132     0      1.2    1   \n",
       "300   68    1   0     144   193    1        1       141     0      3.4    1   \n",
       "301   57    1   0     130   131    0        1       115     1      1.2    1   \n",
       "302   57    0   1     130   236    0        0       174     0      0.0    1   \n",
       "\n",
       "     caa  thall  output  \n",
       "0      0      1       1  \n",
       "1      0      2       1  \n",
       "2      0      2       1  \n",
       "3      0      2       1  \n",
       "4      0      2       1  \n",
       "..   ...    ...     ...  \n",
       "298    0      3       0  \n",
       "299    0      3       0  \n",
       "300    2      3       0  \n",
       "301    1      3       0  \n",
       "302    1      2       0  \n",
       "\n",
       "[303 rows x 14 columns]"
      ]
     },
     "execution_count": 3,
     "metadata": {},
     "output_type": "execute_result"
    }
   ],
   "source": [
    "dataset"
   ]
  },
  {
   "cell_type": "markdown",
   "id": "7bfa9372",
   "metadata": {},
   "source": [
    "# To create feature matrix(x) and dependent variable vector(y)"
   ]
  },
  {
   "cell_type": "code",
   "execution_count": 4,
   "id": "fcff50f1",
   "metadata": {},
   "outputs": [],
   "source": [
    "x=dataset.iloc[:,:-1].values\n",
    "y=dataset.iloc[:,-1].values"
   ]
  },
  {
   "cell_type": "code",
   "execution_count": 5,
   "id": "9aec24ab",
   "metadata": {},
   "outputs": [
    {
     "data": {
      "text/plain": [
       "array([[63.,  1.,  3., ...,  0.,  0.,  1.],\n",
       "       [37.,  1.,  2., ...,  0.,  0.,  2.],\n",
       "       [41.,  0.,  1., ...,  2.,  0.,  2.],\n",
       "       ...,\n",
       "       [68.,  1.,  0., ...,  1.,  2.,  3.],\n",
       "       [57.,  1.,  0., ...,  1.,  1.,  3.],\n",
       "       [57.,  0.,  1., ...,  1.,  1.,  2.]])"
      ]
     },
     "execution_count": 5,
     "metadata": {},
     "output_type": "execute_result"
    }
   ],
   "source": [
    "x"
   ]
  },
  {
   "cell_type": "code",
   "execution_count": 6,
   "id": "7c4b5760",
   "metadata": {},
   "outputs": [
    {
     "data": {
      "text/plain": [
       "array([1, 1, 1, 1, 1, 1, 1, 1, 1, 1, 1, 1, 1, 1, 1, 1, 1, 1, 1, 1, 1, 1,\n",
       "       1, 1, 1, 1, 1, 1, 1, 1, 1, 1, 1, 1, 1, 1, 1, 1, 1, 1, 1, 1, 1, 1,\n",
       "       1, 1, 1, 1, 1, 1, 1, 1, 1, 1, 1, 1, 1, 1, 1, 1, 1, 1, 1, 1, 1, 1,\n",
       "       1, 1, 1, 1, 1, 1, 1, 1, 1, 1, 1, 1, 1, 1, 1, 1, 1, 1, 1, 1, 1, 1,\n",
       "       1, 1, 1, 1, 1, 1, 1, 1, 1, 1, 1, 1, 1, 1, 1, 1, 1, 1, 1, 1, 1, 1,\n",
       "       1, 1, 1, 1, 1, 1, 1, 1, 1, 1, 1, 1, 1, 1, 1, 1, 1, 1, 1, 1, 1, 1,\n",
       "       1, 1, 1, 1, 1, 1, 1, 1, 1, 1, 1, 1, 1, 1, 1, 1, 1, 1, 1, 1, 1, 1,\n",
       "       1, 1, 1, 1, 1, 1, 1, 1, 1, 1, 1, 0, 0, 0, 0, 0, 0, 0, 0, 0, 0, 0,\n",
       "       0, 0, 0, 0, 0, 0, 0, 0, 0, 0, 0, 0, 0, 0, 0, 0, 0, 0, 0, 0, 0, 0,\n",
       "       0, 0, 0, 0, 0, 0, 0, 0, 0, 0, 0, 0, 0, 0, 0, 0, 0, 0, 0, 0, 0, 0,\n",
       "       0, 0, 0, 0, 0, 0, 0, 0, 0, 0, 0, 0, 0, 0, 0, 0, 0, 0, 0, 0, 0, 0,\n",
       "       0, 0, 0, 0, 0, 0, 0, 0, 0, 0, 0, 0, 0, 0, 0, 0, 0, 0, 0, 0, 0, 0,\n",
       "       0, 0, 0, 0, 0, 0, 0, 0, 0, 0, 0, 0, 0, 0, 0, 0, 0, 0, 0, 0, 0, 0,\n",
       "       0, 0, 0, 0, 0, 0, 0, 0, 0, 0, 0, 0, 0, 0, 0, 0, 0], dtype=int64)"
      ]
     },
     "execution_count": 6,
     "metadata": {},
     "output_type": "execute_result"
    }
   ],
   "source": [
    "y"
   ]
  },
  {
   "cell_type": "markdown",
   "id": "28223ab7",
   "metadata": {},
   "source": [
    "# Replacing the missing data"
   ]
  },
  {
   "cell_type": "code",
   "execution_count": 7,
   "id": "04e791b5",
   "metadata": {},
   "outputs": [],
   "source": [
    "from sklearn.impute import SimpleImputer\n",
    "imputer=SimpleImputer(missing_values=np.nan,strategy='mean')\n",
    "imputer.fit(x[:,:])\n",
    "x[:,:]=imputer.transform(x[:,:])"
   ]
  },
  {
   "cell_type": "markdown",
   "id": "06e007fa",
   "metadata": {},
   "source": [
    "# Encoding(Not Required)"
   ]
  },
  {
   "cell_type": "markdown",
   "id": "0424c22e",
   "metadata": {},
   "source": [
    "#  Feature Scaling"
   ]
  },
  {
   "cell_type": "code",
   "execution_count": 8,
   "id": "8f9625f9",
   "metadata": {},
   "outputs": [],
   "source": [
    "from sklearn.preprocessing import StandardScaler\n",
    "sc=StandardScaler()\n",
    "x=sc.fit_transform(x)\n",
    "x=sc.fit_transform(x)"
   ]
  },
  {
   "cell_type": "markdown",
   "id": "04e80101",
   "metadata": {},
   "source": [
    "# Data Visualisation"
   ]
  },
  {
   "cell_type": "code",
   "execution_count": 9,
   "id": "c6230406",
   "metadata": {},
   "outputs": [
    {
     "data": {
      "image/png": "[encoded data removed]",
      "text/plain": [
       "<Figure size 1008x504 with 1 Axes>"
      ]
     },
     "metadata": {
      "needs_background": "light"
     },
     "output_type": "display_data"
    }
   ],
   "source": [
    "import seaborn as sns\n",
    "sns.countplot(x=dataset['age'])\n",
    "plt.gcf().set_size_inches(14,7)\n",
    "plt.title('Count of Patients Age')\n",
    "plt.show()"
   ]
  },
  {
   "cell_type": "code",
   "execution_count": 10,
   "id": "b3779eba",
   "metadata": {},
   "outputs": [
    {
     "data": {
      "image/png": "[encoded data removed]",
      "text/plain": [
       "<Figure size 432x288 with 1 Axes>"
      ]
     },
     "metadata": {
      "needs_background": "light"
     },
     "output_type": "display_data"
    }
   ],
   "source": [
    "sns.countplot(x=dataset['sex'])\n",
    "plt.title('Male=1,Female=0')\n",
    "plt.show()"
   ]
  },
  {
   "cell_type": "code",
   "execution_count": 11,
   "id": "a1945111",
   "metadata": {},
   "outputs": [],
   "source": [
    "cp=dataset['cp'].value_counts().reset_index()"
   ]
  },
  {
   "cell_type": "code",
   "execution_count": 12,
   "id": "cd83584a",
   "metadata": {},
   "outputs": [
    {
     "data": {
      "text/html": [
       "<div>\n",
       "<style scoped>\n",
       "    .dataframe tbody tr th:only-of-type {\n",
       "        vertical-align: middle;\n",
       "    }\n",
       "\n",
       "    .dataframe tbody tr th {\n",
       "        vertical-align: top;\n",
       "    }\n",
       "\n",
       "    .dataframe thead th {\n",
       "        text-align: right;\n",
       "    }\n",
       "</style>\n",
       "<table border=\"1\" class=\"dataframe\">\n",
       "  <thead>\n",
       "    <tr style=\"text-align: right;\">\n",
       "      <th></th>\n",
       "      <th>index</th>\n",
       "      <th>cp</th>\n",
       "    </tr>\n",
       "  </thead>\n",
       "  <tbody>\n",
       "    <tr>\n",
       "      <th>0</th>\n",
       "      <td>0</td>\n",
       "      <td>143</td>\n",
       "    </tr>\n",
       "    <tr>\n",
       "      <th>1</th>\n",
       "      <td>2</td>\n",
       "      <td>87</td>\n",
       "    </tr>\n",
       "    <tr>\n",
       "      <th>2</th>\n",
       "      <td>1</td>\n",
       "      <td>50</td>\n",
       "    </tr>\n",
       "    <tr>\n",
       "      <th>3</th>\n",
       "      <td>3</td>\n",
       "      <td>23</td>\n",
       "    </tr>\n",
       "  </tbody>\n",
       "</table>\n",
       "</div>"
      ],
      "text/plain": [
       "   index   cp\n",
       "0      0  143\n",
       "1      2   87\n",
       "2      1   50\n",
       "3      3   23"
      ]
     },
     "execution_count": 12,
     "metadata": {},
     "output_type": "execute_result"
    }
   ],
   "source": [
    "cp"
   ]
  },
  {
   "cell_type": "code",
   "execution_count": 13,
   "id": "ea8cd3be",
   "metadata": {},
   "outputs": [],
   "source": [
    "cp['index'].replace({0:\"typical angina\",2:\"atypical angina\",1:\"non-anginal pain\",3:\"asymptomatic\"},inplace=True)"
   ]
  },
  {
   "cell_type": "code",
   "execution_count": 14,
   "id": "a5b46ed7",
   "metadata": {},
   "outputs": [
    {
     "data": {
      "text/html": [
       "<div>\n",
       "<style scoped>\n",
       "    .dataframe tbody tr th:only-of-type {\n",
       "        vertical-align: middle;\n",
       "    }\n",
       "\n",
       "    .dataframe tbody tr th {\n",
       "        vertical-align: top;\n",
       "    }\n",
       "\n",
       "    .dataframe thead th {\n",
       "        text-align: right;\n",
       "    }\n",
       "</style>\n",
       "<table border=\"1\" class=\"dataframe\">\n",
       "  <thead>\n",
       "    <tr style=\"text-align: right;\">\n",
       "      <th></th>\n",
       "      <th>index</th>\n",
       "      <th>cp</th>\n",
       "    </tr>\n",
       "  </thead>\n",
       "  <tbody>\n",
       "    <tr>\n",
       "      <th>0</th>\n",
       "      <td>typical angina</td>\n",
       "      <td>143</td>\n",
       "    </tr>\n",
       "    <tr>\n",
       "      <th>1</th>\n",
       "      <td>atypical angina</td>\n",
       "      <td>87</td>\n",
       "    </tr>\n",
       "    <tr>\n",
       "      <th>2</th>\n",
       "      <td>non-anginal pain</td>\n",
       "      <td>50</td>\n",
       "    </tr>\n",
       "    <tr>\n",
       "      <th>3</th>\n",
       "      <td>asymptomatic</td>\n",
       "      <td>23</td>\n",
       "    </tr>\n",
       "  </tbody>\n",
       "</table>\n",
       "</div>"
      ],
      "text/plain": [
       "              index   cp\n",
       "0    typical angina  143\n",
       "1   atypical angina   87\n",
       "2  non-anginal pain   50\n",
       "3      asymptomatic   23"
      ]
     },
     "execution_count": 14,
     "metadata": {},
     "output_type": "execute_result"
    }
   ],
   "source": [
    "cp"
   ]
  },
  {
   "cell_type": "code",
   "execution_count": 15,
   "id": "7a8fd90d",
   "metadata": {},
   "outputs": [
    {
     "data": {
      "image/png": "[encoded data removed]",
      "text/plain": [
       "<Figure size 432x288 with 1 Axes>"
      ]
     },
     "metadata": {},
     "output_type": "display_data"
    }
   ],
   "source": [
    "fig = plt.figure()\n",
    "ax = fig.add_axes([0,0,1,1])\n",
    "ax.axis('equal')\n",
    "index=[\"typical angina\",\"atypical angina\",\"non-anginal pain\",\"asymptomatic\"]\n",
    "cp=[143,87,50,23]\n",
    "ax.pie(cp, labels = index,autopct='%1.2f%%')\n",
    "plt.show()"
   ]
  },
  {
   "cell_type": "code",
   "execution_count": 16,
   "id": "8c638d65",
   "metadata": {},
   "outputs": [
    {
     "data": {
      "image/png": "[encoded data removed]",
      "text/plain": [
       "<Figure size 360x360 with 1 Axes>"
      ]
     },
     "metadata": {
      "needs_background": "light"
     },
     "output_type": "display_data"
    }
   ],
   "source": [
    "sns.displot(dataset['trtbps'])\n",
    "plt.title(\"Distribution of Blood Pressure Around Patients\")\n",
    "plt.show()"
   ]
  },
  {
   "cell_type": "code",
   "execution_count": 17,
   "id": "87ce8cc5",
   "metadata": {},
   "outputs": [
    {
     "data": {
      "image/png": "[encoded data removed]",
      "text/plain": [
       "<Figure size 360x360 with 1 Axes>"
      ]
     },
     "metadata": {
      "needs_background": "light"
     },
     "output_type": "display_data"
    }
   ],
   "source": [
    "sns.displot(dataset['chol'])\n",
    "plt.title(\"Distribution of Cholestrol Around Patients\")\n",
    "plt.show()"
   ]
  },
  {
   "cell_type": "code",
   "execution_count": 18,
   "id": "39ba623b",
   "metadata": {},
   "outputs": [
    {
     "data": {
      "image/png": "[encoded data removed]",
      "text/plain": [
       "<Figure size 360x360 with 1 Axes>"
      ]
     },
     "metadata": {
      "needs_background": "light"
     },
     "output_type": "display_data"
    }
   ],
   "source": [
    "sns.displot(dataset['thalachh'])\n",
    "plt.title(\"Distribution of Heart Rate Around Patients\")\n",
    "plt.show()"
   ]
  },
  {
   "cell_type": "code",
   "execution_count": 19,
   "id": "251dc02c",
   "metadata": {},
   "outputs": [
    {
     "data": {
      "text/plain": [
       "age  output\n",
       "29   1         1\n",
       "34   1         2\n",
       "35   0         2\n",
       "     1         2\n",
       "37   1         2\n",
       "              ..\n",
       "70   1         1\n",
       "71   1         3\n",
       "74   1         1\n",
       "76   1         1\n",
       "77   0         1\n",
       "Length: 75, dtype: int64"
      ]
     },
     "execution_count": 19,
     "metadata": {},
     "output_type": "execute_result"
    }
   ],
   "source": [
    "dataset[['age','output']].value_counts().sort_values().sort_index()"
   ]
  },
  {
   "cell_type": "code",
   "execution_count": 20,
   "id": "333ec633",
   "metadata": {},
   "outputs": [],
   "source": [
    "age_o=pd.crosstab(dataset['age'],dataset['output']).reset_index()"
   ]
  },
  {
   "cell_type": "code",
   "execution_count": 21,
   "id": "184e8ce7",
   "metadata": {},
   "outputs": [
    {
     "data": {
      "text/html": [
       "<div>\n",
       "<style scoped>\n",
       "    .dataframe tbody tr th:only-of-type {\n",
       "        vertical-align: middle;\n",
       "    }\n",
       "\n",
       "    .dataframe tbody tr th {\n",
       "        vertical-align: top;\n",
       "    }\n",
       "\n",
       "    .dataframe thead th {\n",
       "        text-align: right;\n",
       "    }\n",
       "</style>\n",
       "<table border=\"1\" class=\"dataframe\">\n",
       "  <thead>\n",
       "    <tr style=\"text-align: right;\">\n",
       "      <th></th>\n",
       "      <th>age</th>\n",
       "      <th>low chance</th>\n",
       "      <th>high chance</th>\n",
       "    </tr>\n",
       "  </thead>\n",
       "  <tbody>\n",
       "    <tr>\n",
       "      <th>0</th>\n",
       "      <td>29</td>\n",
       "      <td>0</td>\n",
       "      <td>1</td>\n",
       "    </tr>\n",
       "    <tr>\n",
       "      <th>1</th>\n",
       "      <td>34</td>\n",
       "      <td>0</td>\n",
       "      <td>2</td>\n",
       "    </tr>\n",
       "    <tr>\n",
       "      <th>2</th>\n",
       "      <td>35</td>\n",
       "      <td>2</td>\n",
       "      <td>2</td>\n",
       "    </tr>\n",
       "    <tr>\n",
       "      <th>3</th>\n",
       "      <td>37</td>\n",
       "      <td>0</td>\n",
       "      <td>2</td>\n",
       "    </tr>\n",
       "    <tr>\n",
       "      <th>4</th>\n",
       "      <td>38</td>\n",
       "      <td>1</td>\n",
       "      <td>2</td>\n",
       "    </tr>\n",
       "    <tr>\n",
       "      <th>5</th>\n",
       "      <td>39</td>\n",
       "      <td>1</td>\n",
       "      <td>3</td>\n",
       "    </tr>\n",
       "    <tr>\n",
       "      <th>6</th>\n",
       "      <td>40</td>\n",
       "      <td>2</td>\n",
       "      <td>1</td>\n",
       "    </tr>\n",
       "    <tr>\n",
       "      <th>7</th>\n",
       "      <td>41</td>\n",
       "      <td>1</td>\n",
       "      <td>9</td>\n",
       "    </tr>\n",
       "    <tr>\n",
       "      <th>8</th>\n",
       "      <td>42</td>\n",
       "      <td>1</td>\n",
       "      <td>7</td>\n",
       "    </tr>\n",
       "    <tr>\n",
       "      <th>9</th>\n",
       "      <td>43</td>\n",
       "      <td>3</td>\n",
       "      <td>5</td>\n",
       "    </tr>\n",
       "    <tr>\n",
       "      <th>10</th>\n",
       "      <td>44</td>\n",
       "      <td>3</td>\n",
       "      <td>8</td>\n",
       "    </tr>\n",
       "    <tr>\n",
       "      <th>11</th>\n",
       "      <td>45</td>\n",
       "      <td>2</td>\n",
       "      <td>6</td>\n",
       "    </tr>\n",
       "    <tr>\n",
       "      <th>12</th>\n",
       "      <td>46</td>\n",
       "      <td>3</td>\n",
       "      <td>4</td>\n",
       "    </tr>\n",
       "    <tr>\n",
       "      <th>13</th>\n",
       "      <td>47</td>\n",
       "      <td>2</td>\n",
       "      <td>3</td>\n",
       "    </tr>\n",
       "    <tr>\n",
       "      <th>14</th>\n",
       "      <td>48</td>\n",
       "      <td>3</td>\n",
       "      <td>4</td>\n",
       "    </tr>\n",
       "    <tr>\n",
       "      <th>15</th>\n",
       "      <td>49</td>\n",
       "      <td>2</td>\n",
       "      <td>3</td>\n",
       "    </tr>\n",
       "    <tr>\n",
       "      <th>16</th>\n",
       "      <td>50</td>\n",
       "      <td>3</td>\n",
       "      <td>4</td>\n",
       "    </tr>\n",
       "    <tr>\n",
       "      <th>17</th>\n",
       "      <td>51</td>\n",
       "      <td>3</td>\n",
       "      <td>9</td>\n",
       "    </tr>\n",
       "    <tr>\n",
       "      <th>18</th>\n",
       "      <td>52</td>\n",
       "      <td>4</td>\n",
       "      <td>9</td>\n",
       "    </tr>\n",
       "    <tr>\n",
       "      <th>19</th>\n",
       "      <td>53</td>\n",
       "      <td>2</td>\n",
       "      <td>6</td>\n",
       "    </tr>\n",
       "    <tr>\n",
       "      <th>20</th>\n",
       "      <td>54</td>\n",
       "      <td>6</td>\n",
       "      <td>10</td>\n",
       "    </tr>\n",
       "    <tr>\n",
       "      <th>21</th>\n",
       "      <td>55</td>\n",
       "      <td>5</td>\n",
       "      <td>3</td>\n",
       "    </tr>\n",
       "    <tr>\n",
       "      <th>22</th>\n",
       "      <td>56</td>\n",
       "      <td>6</td>\n",
       "      <td>5</td>\n",
       "    </tr>\n",
       "    <tr>\n",
       "      <th>23</th>\n",
       "      <td>57</td>\n",
       "      <td>10</td>\n",
       "      <td>7</td>\n",
       "    </tr>\n",
       "    <tr>\n",
       "      <th>24</th>\n",
       "      <td>58</td>\n",
       "      <td>12</td>\n",
       "      <td>7</td>\n",
       "    </tr>\n",
       "    <tr>\n",
       "      <th>25</th>\n",
       "      <td>59</td>\n",
       "      <td>9</td>\n",
       "      <td>5</td>\n",
       "    </tr>\n",
       "    <tr>\n",
       "      <th>26</th>\n",
       "      <td>60</td>\n",
       "      <td>8</td>\n",
       "      <td>3</td>\n",
       "    </tr>\n",
       "    <tr>\n",
       "      <th>27</th>\n",
       "      <td>61</td>\n",
       "      <td>7</td>\n",
       "      <td>1</td>\n",
       "    </tr>\n",
       "    <tr>\n",
       "      <th>28</th>\n",
       "      <td>62</td>\n",
       "      <td>7</td>\n",
       "      <td>4</td>\n",
       "    </tr>\n",
       "    <tr>\n",
       "      <th>29</th>\n",
       "      <td>63</td>\n",
       "      <td>6</td>\n",
       "      <td>3</td>\n",
       "    </tr>\n",
       "    <tr>\n",
       "      <th>30</th>\n",
       "      <td>64</td>\n",
       "      <td>4</td>\n",
       "      <td>6</td>\n",
       "    </tr>\n",
       "    <tr>\n",
       "      <th>31</th>\n",
       "      <td>65</td>\n",
       "      <td>4</td>\n",
       "      <td>4</td>\n",
       "    </tr>\n",
       "    <tr>\n",
       "      <th>32</th>\n",
       "      <td>66</td>\n",
       "      <td>3</td>\n",
       "      <td>4</td>\n",
       "    </tr>\n",
       "    <tr>\n",
       "      <th>33</th>\n",
       "      <td>67</td>\n",
       "      <td>6</td>\n",
       "      <td>3</td>\n",
       "    </tr>\n",
       "    <tr>\n",
       "      <th>34</th>\n",
       "      <td>68</td>\n",
       "      <td>2</td>\n",
       "      <td>2</td>\n",
       "    </tr>\n",
       "    <tr>\n",
       "      <th>35</th>\n",
       "      <td>69</td>\n",
       "      <td>1</td>\n",
       "      <td>2</td>\n",
       "    </tr>\n",
       "    <tr>\n",
       "      <th>36</th>\n",
       "      <td>70</td>\n",
       "      <td>3</td>\n",
       "      <td>1</td>\n",
       "    </tr>\n",
       "    <tr>\n",
       "      <th>37</th>\n",
       "      <td>71</td>\n",
       "      <td>0</td>\n",
       "      <td>3</td>\n",
       "    </tr>\n",
       "    <tr>\n",
       "      <th>38</th>\n",
       "      <td>74</td>\n",
       "      <td>0</td>\n",
       "      <td>1</td>\n",
       "    </tr>\n",
       "    <tr>\n",
       "      <th>39</th>\n",
       "      <td>76</td>\n",
       "      <td>0</td>\n",
       "      <td>1</td>\n",
       "    </tr>\n",
       "    <tr>\n",
       "      <th>40</th>\n",
       "      <td>77</td>\n",
       "      <td>1</td>\n",
       "      <td>0</td>\n",
       "    </tr>\n",
       "  </tbody>\n",
       "</table>\n",
       "</div>"
      ],
      "text/plain": [
       "    age  low chance  high chance\n",
       "0    29           0            1\n",
       "1    34           0            2\n",
       "2    35           2            2\n",
       "3    37           0            2\n",
       "4    38           1            2\n",
       "5    39           1            3\n",
       "6    40           2            1\n",
       "7    41           1            9\n",
       "8    42           1            7\n",
       "9    43           3            5\n",
       "10   44           3            8\n",
       "11   45           2            6\n",
       "12   46           3            4\n",
       "13   47           2            3\n",
       "14   48           3            4\n",
       "15   49           2            3\n",
       "16   50           3            4\n",
       "17   51           3            9\n",
       "18   52           4            9\n",
       "19   53           2            6\n",
       "20   54           6           10\n",
       "21   55           5            3\n",
       "22   56           6            5\n",
       "23   57          10            7\n",
       "24   58          12            7\n",
       "25   59           9            5\n",
       "26   60           8            3\n",
       "27   61           7            1\n",
       "28   62           7            4\n",
       "29   63           6            3\n",
       "30   64           4            6\n",
       "31   65           4            4\n",
       "32   66           3            4\n",
       "33   67           6            3\n",
       "34   68           2            2\n",
       "35   69           1            2\n",
       "36   70           3            1\n",
       "37   71           0            3\n",
       "38   74           0            1\n",
       "39   76           0            1\n",
       "40   77           1            0"
      ]
     },
     "execution_count": 21,
     "metadata": {},
     "output_type": "execute_result"
    }
   ],
   "source": [
    "age_o.columns=['age','low chance','high chance']\n",
    "age_o"
   ]
  },
  {
   "cell_type": "code",
   "execution_count": 22,
   "id": "48c8f811",
   "metadata": {},
   "outputs": [
    {
     "data": {
      "image/png": "[encoded data removed]",
      "text/plain": [
       "<Figure size 432x288 with 1 Axes>"
      ]
     },
     "metadata": {
      "needs_background": "light"
     },
     "output_type": "display_data"
    }
   ],
   "source": [
    "sns.lineplot(y=age_o[\"high chance\"],x=age_o[\"age\"])\n",
    "plt.title(\"High Chance of Heart Attack with Age\")\n",
    "plt.show()"
   ]
  },
  {
   "cell_type": "code",
   "execution_count": 23,
   "id": "c25f2363",
   "metadata": {},
   "outputs": [
    {
     "data": {
      "image/png": "[encoded data removed]",
      "text/plain": [
       "<Figure size 432x288 with 1 Axes>"
      ]
     },
     "metadata": {
      "needs_background": "light"
     },
     "output_type": "display_data"
    }
   ],
   "source": [
    "sns.lineplot(y=age_o[\"low chance\"],x=age_o[\"age\"])\n",
    "plt.title(\"low Chance of Heart Attack with Age\")\n",
    "plt.show()"
   ]
  },
  {
   "cell_type": "code",
   "execution_count": 24,
   "id": "ebfe3986",
   "metadata": {},
   "outputs": [
    {
     "data": {
      "image/png": "[encoded data removed]",
      "text/plain": [
       "<Figure size 432x288 with 1 Axes>"
      ]
     },
     "metadata": {
      "needs_background": "light"
     },
     "output_type": "display_data"
    }
   ],
   "source": [
    "sns.lineplot(y=dataset['trtbps'],x=dataset['age'])\n",
    "plt.title('Blood Pressure With Age')\n",
    "plt.show()"
   ]
  },
  {
   "cell_type": "code",
   "execution_count": 25,
   "id": "09fe7e92",
   "metadata": {},
   "outputs": [
    {
     "data": {
      "image/png": "[encoded data removed]",
      "text/plain": [
       "<Figure size 432x288 with 1 Axes>"
      ]
     },
     "metadata": {
      "needs_background": "light"
     },
     "output_type": "display_data"
    }
   ],
   "source": [
    "sns.lineplot(y=dataset['chol'],x=dataset['age'])\n",
    "plt.title('Cholestrol With Age')\n",
    "plt.show()"
   ]
  },
  {
   "cell_type": "code",
   "execution_count": 26,
   "id": "69173a50",
   "metadata": {},
   "outputs": [],
   "source": [
    "# N.B - From above plot, We knew that heart rate decreases with increase in age."
   ]
  },
  {
   "cell_type": "markdown",
   "id": "eaff1b6d",
   "metadata": {},
   "source": [
    "# Spliting to data set into training data set and testing data set"
   ]
  },
  {
   "cell_type": "code",
   "execution_count": 27,
   "id": "6c36d52f",
   "metadata": {},
   "outputs": [],
   "source": [
    "from sklearn.model_selection import train_test_split\n",
    "xtrain,xtest,ytrain,ytest=train_test_split(x,y,test_size=0.2,random_state=1)"
   ]
  },
  {
   "cell_type": "code",
   "execution_count": 28,
   "id": "ea5b7517",
   "metadata": {},
   "outputs": [
    {
     "data": {
      "text/plain": [
       "array([[-0.26098049,  0.68100522,  1.97312292, ..., -0.64911323,\n",
       "        -0.71442887, -2.14887271],\n",
       "       [ 1.39335191, -1.46841752,  1.00257707, ...,  0.97635214,\n",
       "         0.26508221, -0.51292188],\n",
       "       [ 0.29046364,  0.68100522,  1.00257707, ...,  0.97635214,\n",
       "         0.26508221,  1.12302895],\n",
       "       ...,\n",
       "       [-2.7976235 ,  0.68100522,  0.03203122, ...,  0.97635214,\n",
       "        -0.71442887, -0.51292188],\n",
       "       [-0.37126932,  0.68100522, -0.93851463, ...,  0.97635214,\n",
       "        -0.71442887,  1.12302895],\n",
       "       [-0.04040284,  0.68100522,  1.00257707, ...,  0.97635214,\n",
       "        -0.71442887,  1.12302895]])"
      ]
     },
     "execution_count": 28,
     "metadata": {},
     "output_type": "execute_result"
    }
   ],
   "source": [
    "xtrain"
   ]
  },
  {
   "cell_type": "code",
   "execution_count": 29,
   "id": "f4f98923",
   "metadata": {},
   "outputs": [
    {
     "data": {
      "text/plain": [
       "array([1, 1, 1, 0, 1, 1, 0, 1, 0, 1, 1, 0, 1, 0, 1, 0, 0, 0, 1, 1, 1, 0,\n",
       "       1, 1, 1, 1, 1, 1, 0, 0, 1, 0, 0, 1, 0, 0, 0, 1, 1, 1, 0, 0, 1, 0,\n",
       "       1, 0, 0, 1, 1, 0, 0, 1, 1, 0, 1, 0, 1, 0, 0, 0, 1, 0, 1, 1, 0, 0,\n",
       "       1, 0, 1, 1, 0, 1, 0, 0, 1, 0, 1, 0, 0, 1, 0, 0, 1, 1, 1, 1, 1, 1,\n",
       "       1, 0, 1, 0, 1, 0, 1, 0, 1, 0, 1, 1, 0, 0, 1, 0, 1, 0, 0, 1, 0, 1,\n",
       "       0, 0, 1, 0, 0, 0, 0, 1, 0, 1, 1, 0, 1, 0, 1, 1, 1, 0, 1, 1, 0, 1,\n",
       "       1, 1, 0, 0, 1, 1, 0, 0, 1, 0, 1, 1, 0, 1, 0, 0, 1, 0, 0, 0, 0, 1,\n",
       "       0, 1, 0, 0, 1, 1, 0, 1, 0, 1, 1, 1, 0, 1, 0, 1, 1, 0, 1, 1, 0, 0,\n",
       "       1, 1, 0, 1, 1, 1, 1, 0, 1, 1, 0, 1, 1, 1, 1, 1, 0, 0, 1, 0, 1, 1,\n",
       "       0, 1, 0, 1, 1, 1, 1, 1, 1, 1, 1, 0, 1, 1, 1, 0, 0, 0, 0, 1, 1, 1,\n",
       "       1, 1, 0, 0, 1, 1, 1, 0, 0, 0, 0, 0, 0, 1, 1, 1, 1, 0, 0, 1, 0, 1],\n",
       "      dtype=int64)"
      ]
     },
     "execution_count": 29,
     "metadata": {},
     "output_type": "execute_result"
    }
   ],
   "source": [
    "ytrain"
   ]
  },
  {
   "cell_type": "code",
   "execution_count": 30,
   "id": "e72d7a1b",
   "metadata": {},
   "outputs": [
    {
     "data": {
      "text/plain": [
       "array([[ 0.84190778, -1.46841752, -0.93851463,  1.62064933, -1.58979199,\n",
       "        -0.41763453, -1.00583187, -0.20320974, -0.69663055,  4.45185073,\n",
       "        -2.27457861,  2.22410436,  1.12302895],\n",
       "       [ 0.18017482,  0.68100522,  0.03203122, -0.09273778, -0.4882395 ,\n",
       "        -0.41763453, -1.00583187,  0.58393935, -0.69663055, -0.89686172,\n",
       "         0.97635214, -0.71442887,  1.12302895],\n",
       "       [-0.7021358 ,  0.68100522, -0.93851463, -0.09273778,  0.18815239,\n",
       "         2.394438  , -1.00583187,  0.01544279,  1.43548113, -0.89686172,\n",
       "         0.97635214,  1.24459328,  1.12302895],\n",
       "       [ 0.62133012,  0.68100522, -0.93851463, -0.09273778, -0.77812173,\n",
       "        -0.41763453, -1.00583187, -0.7717063 ,  1.43548113,  1.17360762,\n",
       "        -0.64911323,  1.24459328,  1.12302895],\n",
       "       [-0.48155814,  0.68100522, -0.93851463,  1.04952029, -0.06307888,\n",
       "        -0.41763453, -1.00583187, -0.94662832, -0.69663055,  1.34614673,\n",
       "        -0.64911323, -0.71442887,  1.12302895],\n",
       "       [ 0.9521966 ,  0.68100522, -0.93851463,  0.47839125, -1.14530589,\n",
       "        -0.41763453, -1.00583187, -0.24694024,  1.43548113,  2.55392051,\n",
       "         0.97635214,  1.24459328,  1.12302895],\n",
       "       [ 0.18017482,  0.68100522, -0.93851463, -0.09273778,  0.70994041,\n",
       "         2.394438  , -1.00583187, -2.03989095,  1.43548113,  0.48345117,\n",
       "        -2.27457861, -0.71442887,  1.12302895],\n",
       "       [-0.92271345, -1.46841752, -0.93851463,  0.36416545, -0.06307888,\n",
       "        -0.41763453, -1.00583187,  0.1029038 ,  1.43548113, -0.89686172,\n",
       "        -0.64911323, -0.71442887, -0.51292188],\n",
       "       [ 0.62133012,  0.68100522, -0.93851463,  0.76395577,  0.69061493,\n",
       "        -0.41763453, -1.00583187, -0.33440125,  1.43548113,  1.51868584,\n",
       "        -0.64911323,  1.24459328,  1.12302895],\n",
       "       [-1.69473524, -1.46841752,  1.00257707,  0.36416545, -0.50756498,\n",
       "        -0.41763453,  0.89896224,  0.1029038 , -0.69663055, -0.89686172,\n",
       "        -0.64911323, -0.71442887, -0.51292188],\n",
       "       [ 1.28306308,  0.68100522, -0.93851463, -0.66386682,  1.07712457,\n",
       "        -0.41763453, -1.00583187,  0.05917329, -0.69663055, -0.55178349,\n",
       "        -0.64911323, -0.71442887, -0.51292188],\n",
       "       [ 1.61392956,  0.68100522,  1.00257707,  0.47839125,  0.14950142,\n",
       "        -0.41763453, -1.00583187, -0.15947923, -0.69663055,  0.82852939,\n",
       "        -0.64911323,  2.22410436,  1.12302895],\n",
       "       [ 0.40075247, -1.46841752,  0.03203122,  0.24993964,  1.40565777,\n",
       "         2.394438  , -1.00583187,  0.1029038 , -0.69663055, -0.89686172,\n",
       "         0.97635214,  1.24459328, -0.51292188],\n",
       "       [ 1.06248543,  0.68100522,  1.00257707, -0.3783023 ,  1.21240295,\n",
       "        -0.41763453,  0.89896224, -0.81543681,  1.43548113,  0.65599028,\n",
       "        -0.64911323, -0.71442887,  1.12302895],\n",
       "       [-0.59184697,  0.68100522,  1.00257707, -0.66386682, -1.12598041,\n",
       "        -0.41763453,  0.89896224, -0.46559277, -0.69663055,  0.82852939,\n",
       "        -0.64911323,  2.22410436,  1.12302895],\n",
       "       [ 0.29046364, -1.46841752,  0.03203122, -0.09273778, -0.19835726,\n",
       "        -0.41763453, -1.00583187,  1.0649749 , -0.69663055, -0.89686172,\n",
       "        -0.64911323,  0.26508221, -0.51292188],\n",
       "       [-2.24617937,  0.68100522,  1.97312292, -0.77809263, -1.2419333 ,\n",
       "        -0.41763453, -1.00583187,  1.0649749 , -0.69663055, -0.89686172,\n",
       "         0.97635214, -0.71442887, -0.51292188],\n",
       "       [ 0.9521966 , -1.46841752, -0.93851463,  1.04952029,  3.10630021,\n",
       "        -0.41763453, -1.00583187,  0.19036481, -0.69663055,  2.55392051,\n",
       "        -0.64911323,  2.22410436,  1.12302895],\n",
       "       [-1.25357993,  0.68100522, -0.93851463,  1.04952029,  0.01422304,\n",
       "        -0.41763453,  0.89896224,  0.93378339, -0.69663055,  0.39718162,\n",
       "         0.97635214, -0.71442887, -0.51292188],\n",
       "       [ 0.5110413 ,  0.68100522,  1.97312292,  2.19177836,  0.80656782,\n",
       "        -0.41763453, -1.00583187,  0.40901733, -0.69663055, -0.7243226 ,\n",
       "        -0.64911323, -0.71442887,  1.12302895],\n",
       "       [-0.7021358 , -1.46841752,  1.00257707, -0.09273778,  0.55533655,\n",
       "        -0.41763453,  0.89896224, -0.46559277, -0.69663055, -0.7243226 ,\n",
       "         0.97635214, -0.71442887, -0.51292188],\n",
       "       [ 1.50364073,  0.68100522, -0.93851463,  0.70684287, -1.029353  ,\n",
       "         2.394438  ,  0.89896224, -0.37813176, -0.69663055,  2.03630317,\n",
       "        -0.64911323,  1.24459328,  1.12302895],\n",
       "       [-0.04040284,  0.68100522,  1.00257707, -0.66386682,  0.22680335,\n",
       "        -0.41763453, -1.00583187, -0.11574873, -0.69663055, -0.55178349,\n",
       "        -0.64911323, -0.71442887,  1.12302895],\n",
       "       [-1.1432911 , -1.46841752,  1.00257707, -0.77809263, -0.08240437,\n",
       "        -0.41763453,  0.89896224, -0.02828772, -0.69663055, -0.63805305,\n",
       "        -0.64911323,  0.26508221, -0.51292188],\n",
       "       [-1.47415758, -1.46841752,  1.00257707, -1.12077005,  0.42005817,\n",
       "        -0.41763453, -1.00583187,  0.97751389,  1.43548113, -0.89686172,\n",
       "         0.97635214, -0.71442887, -0.51292188],\n",
       "       [-1.80502406,  0.68100522,  1.00257707,  0.36416545, -1.37721168,\n",
       "        -0.41763453,  0.89896224,  1.0212444 , -0.69663055, -0.89686172,\n",
       "         0.97635214,  3.20361543, -0.51292188],\n",
       "       [ 0.40075247,  0.68100522, -0.93851463, -0.20696359, -0.58486691,\n",
       "        -0.41763453, -1.00583187, -0.81543681,  1.43548113,  1.00106851,\n",
       "        -0.64911323,  2.22410436,  1.12302895],\n",
       "       [-1.47415758,  0.68100522,  1.00257707, -1.12077005,  0.07219949,\n",
       "        -0.41763453,  0.89896224,  1.28362743, -0.69663055, -0.89686172,\n",
       "         0.97635214, -0.71442887, -0.51292188],\n",
       "       [-0.37126932,  0.68100522,  1.00257707, -1.23499586, -1.37721168,\n",
       "        -0.41763453,  0.89896224, -1.16528085, -0.69663055, -0.37924438,\n",
       "         0.97635214, -0.71442887, -0.51292188],\n",
       "       [-0.04040284, -1.46841752,  1.00257707, -1.34922166,  0.40073269,\n",
       "        -0.41763453, -1.00583187,  0.75886137, -0.69663055, -0.89686172,\n",
       "         0.97635214, -0.71442887, -0.51292188],\n",
       "       [-2.13589054,  0.68100522,  0.03203122, -0.54964101, -1.04867848,\n",
       "        -0.41763453,  0.89896224,  1.0649749 , -0.69663055, -0.89686172,\n",
       "         0.97635214, -0.71442887, -0.51292188],\n",
       "       [-0.59184697,  0.68100522,  0.03203122, -0.09273778,  0.38140721,\n",
       "        -0.41763453,  0.89896224,  0.93378339, -0.69663055, -0.37924438,\n",
       "         0.97635214, -0.71442887, -0.51292188],\n",
       "       [-0.15069166,  0.68100522,  1.00257707, -0.09273778, -0.95205107,\n",
       "         2.394438  , -1.00583187,  0.1029038 , -0.69663055,  0.13837295,\n",
       "        -2.27457861, -0.71442887, -0.51292188],\n",
       "       [ 0.29046364, -1.46841752, -0.93851463, -0.20696359,  1.09645005,\n",
       "        -0.41763453, -1.00583187,  0.40901733, -0.69663055, -0.89686172,\n",
       "         0.97635214,  0.26508221, -0.51292188],\n",
       "       [-0.48155814,  0.68100522, -0.93851463,  0.70684287, -0.89407462,\n",
       "        -0.41763453, -1.00583187, -1.03408933,  1.43548113, -0.12043572,\n",
       "        -0.64911323, -0.71442887,  1.12302895],\n",
       "       [-0.37126932,  0.68100522, -0.93851463,  0.47839125,  0.2847798 ,\n",
       "        -0.41763453, -1.00583187,  1.58974096,  1.43548113, -0.89686172,\n",
       "         0.97635214, -0.71442887, -0.51292188],\n",
       "       [ 1.28306308,  0.68100522, -0.93851463,  1.62064933, -0.35296112,\n",
       "        -0.41763453, -1.00583187, -0.50932327, -0.69663055,  1.08733806,\n",
       "         0.97635214, -0.71442887, -2.14887271],\n",
       "       [ 1.39335191,  0.68100522, -0.93851463, -0.3783023 ,  0.14950142,\n",
       "         2.394438  ,  0.89896224,  0.58393935, -0.69663055, -0.7243226 ,\n",
       "        -0.64911323,  1.24459328,  1.12302895],\n",
       "       [-1.47415758,  0.68100522, -0.93851463, -1.23499586, -1.43518813,\n",
       "        -0.41763453, -1.00583187,  0.36528682, -0.69663055, -0.89686172,\n",
       "         0.97635214, -0.71442887,  1.12302895],\n",
       "       [-0.15069166,  0.68100522, -0.93851463,  0.59261706, -0.39161208,\n",
       "        -0.41763453, -1.00583187, -1.69004691,  1.43548113, -0.89686172,\n",
       "         0.97635214, -0.71442887,  1.12302895],\n",
       "       [ 0.9521966 , -1.46841752,  0.03203122,  0.47839125, -0.99070203,\n",
       "        -0.41763453,  0.89896224,  1.28362743, -0.69663055, -0.89686172,\n",
       "         0.97635214,  1.24459328, -0.51292188],\n",
       "       [ 0.29046364,  0.68100522, -0.93851463, -0.09273778, -2.2275329 ,\n",
       "        -0.41763453,  0.89896224, -1.51512489,  1.43548113,  0.13837295,\n",
       "        -0.64911323,  0.26508221,  1.12302895],\n",
       "       [ 0.29046364,  0.68100522, -0.93851463, -1.23499586, -0.87474914,\n",
       "        -0.41763453,  0.89896224, -1.03408933,  1.43548113,  0.39718162,\n",
       "        -0.64911323, -0.71442887, -2.14887271],\n",
       "       [ 0.18017482, -1.46841752, -0.93851463,  3.90516547,  0.80656782,\n",
       "         2.394438  , -1.00583187, -0.7279758 ,  1.43548113,  2.55392051,\n",
       "        -2.27457861,  1.24459328,  1.12302895],\n",
       "       [ 0.9521966 , -1.46841752, -0.93851463, -0.43541521, -0.95205107,\n",
       "        -0.41763453,  0.89896224, -0.59678428,  1.43548113, -0.89686172,\n",
       "        -0.64911323, -0.71442887, -0.51292188],\n",
       "       [ 0.73161895, -1.46841752, -0.93851463, -0.09273778,  1.61823808,\n",
       "        -0.41763453, -1.00583187,  0.84632238, -0.69663055, -0.89686172,\n",
       "         0.97635214, -0.71442887, -0.51292188],\n",
       "       [ 0.06988599, -1.46841752, -0.93851463, -0.20696359, -0.79744721,\n",
       "        -0.41763453,  2.80375634, -0.85916731,  1.43548113,  0.82852939,\n",
       "        -0.64911323,  0.26508221,  1.12302895],\n",
       "       [ 0.29046364, -1.46841752, -0.93851463, -0.66386682,  2.08204965,\n",
       "        -0.41763453,  0.89896224,  0.58393935,  1.43548113, -0.37924438,\n",
       "         0.97635214, -0.71442887, -0.51292188],\n",
       "       [-1.58444641,  0.68100522, -0.93851463,  1.1637461 , -0.44958853,\n",
       "        -0.41763453,  0.89896224,  1.37108844, -0.69663055, -0.89686172,\n",
       "         0.97635214, -0.71442887,  1.12302895],\n",
       "       [ 1.06248543, -1.46841752,  1.00257707,  0.47839125,  1.28970488,\n",
       "        -0.41763453,  0.89896224, -0.7279758 , -0.69663055, -0.7243226 ,\n",
       "         0.97635214, -0.71442887,  1.12302895],\n",
       "       [-0.26098049,  0.68100522,  0.03203122, -0.20696359, -0.79744721,\n",
       "         2.394438  ,  0.89896224,  1.50227995, -0.69663055, -0.89686172,\n",
       "         0.97635214, -0.71442887, -0.51292188],\n",
       "       [-0.48155814,  0.68100522,  1.00257707,  0.47839125, -0.25633371,\n",
       "        -0.41763453,  0.89896224,  0.58393935, -0.69663055, -0.37924438,\n",
       "        -0.64911323,  0.26508221,  1.12302895],\n",
       "       [-1.03300228,  0.68100522,  1.97312292, -1.23499586,  0.34275624,\n",
       "        -0.41763453,  0.89896224, -0.7717063 , -0.69663055,  0.13837295,\n",
       "        -0.64911323, -0.71442887,  1.12302895],\n",
       "       [ 0.40075247, -1.46841752, -0.93851463, -1.80612489,  0.03354853,\n",
       "        -0.41763453, -1.00583187, -1.20901135, -0.69663055, -0.03416616,\n",
       "        -0.64911323, -0.71442887, -0.51292188],\n",
       "       [ 0.40075247, -1.46841752,  1.00257707, -0.66386682,  1.8114929 ,\n",
       "        -0.41763453,  0.89896224,  0.97751389, -0.69663055, -0.89686172,\n",
       "         0.97635214, -0.71442887, -0.51292188],\n",
       "       [-0.04040284, -1.46841752,  1.00257707, -1.23499586, -0.62351787,\n",
       "        -0.41763453,  0.89896224,  0.36528682, -0.69663055,  0.48345117,\n",
       "        -0.64911323, -0.71442887, -0.51292188],\n",
       "       [ 0.9521966 ,  0.68100522,  1.97312292,  0.76395577, -0.25633371,\n",
       "         2.394438  , -1.00583187,  0.01544279, -0.69663055,  1.08733806,\n",
       "        -2.27457861, -0.71442887, -2.14887271],\n",
       "       [ 0.29046364,  0.68100522, -0.93851463, -1.23499586,  1.71486549,\n",
       "        -0.41763453,  0.89896224, -0.29067075,  1.43548113,  1.69122495,\n",
       "        -0.64911323,  0.26508221,  1.12302895],\n",
       "       [-1.80502406,  0.68100522,  1.97312292, -0.66386682, -0.29498467,\n",
       "        -0.41763453,  0.89896224,  1.41481894,  1.43548113,  2.38138139,\n",
       "        -0.64911323, -0.71442887,  1.12302895],\n",
       "       [ 0.29046364,  0.68100522, -0.93851463,  1.04952029,  0.57466203,\n",
       "        -0.41763453, -1.00583187, -1.6463164 ,  1.43548113, -0.37924438,\n",
       "        -0.64911323,  0.26508221, -2.14887271],\n",
       "       [ 1.06248543, -1.46841752, -0.93851463,  2.7629074 ,  1.52161066,\n",
       "        -0.41763453,  0.89896224,  0.19036481,  1.43548113, -0.89686172,\n",
       "         0.97635214, -0.71442887, -0.51292188]])"
      ]
     },
     "execution_count": 30,
     "metadata": {},
     "output_type": "execute_result"
    }
   ],
   "source": [
    "xtest"
   ]
  },
  {
   "cell_type": "code",
   "execution_count": 31,
   "id": "12ab1212",
   "metadata": {},
   "outputs": [
    {
     "data": {
      "text/plain": [
       "array([0, 1, 0, 0, 0, 0, 0, 1, 0, 1, 1, 0, 0, 0, 0, 0, 1, 0, 1, 0, 1, 0,\n",
       "       1, 1, 1, 1, 0, 1, 1, 1, 1, 1, 1, 1, 0, 1, 1, 0, 0, 1, 1, 0, 1, 0,\n",
       "       0, 0, 0, 1, 0, 1, 1, 0, 0, 1, 1, 1, 1, 0, 0, 0, 1], dtype=int64)"
      ]
     },
     "execution_count": 31,
     "metadata": {},
     "output_type": "execute_result"
    }
   ],
   "source": [
    "ytest"
   ]
  },
  {
   "cell_type": "markdown",
   "id": "3b87247b",
   "metadata": {},
   "source": [
    "# Build my classification model"
   ]
  },
  {
   "cell_type": "code",
   "execution_count": 32,
   "id": "c1ac2a9e",
   "metadata": {},
   "outputs": [
    {
     "data": {
      "text/plain": [
       "LogisticRegression(random_state=0)"
      ]
     },
     "execution_count": 32,
     "metadata": {},
     "output_type": "execute_result"
    }
   ],
   "source": [
    "#step 1: Training the classifiaction model\n",
    "from sklearn.linear_model import LogisticRegression\n",
    "LOR=LogisticRegression(random_state=0)\n",
    "LOR.fit(xtrain,ytrain)"
   ]
  },
  {
   "cell_type": "code",
   "execution_count": 33,
   "id": "96838902",
   "metadata": {},
   "outputs": [
    {
     "data": {
      "text/plain": [
       "array([[0, 0],\n",
       "       [1, 1],\n",
       "       [0, 0],\n",
       "       [0, 0],\n",
       "       [0, 0],\n",
       "       [0, 0],\n",
       "       [0, 0],\n",
       "       [1, 1],\n",
       "       [0, 0],\n",
       "       [1, 1],\n",
       "       [0, 1],\n",
       "       [0, 0],\n",
       "       [1, 0],\n",
       "       [0, 0],\n",
       "       [0, 0],\n",
       "       [1, 0],\n",
       "       [1, 1],\n",
       "       [0, 0],\n",
       "       [0, 1],\n",
       "       [1, 0],\n",
       "       [1, 1],\n",
       "       [0, 0],\n",
       "       [1, 1],\n",
       "       [1, 1],\n",
       "       [1, 1],\n",
       "       [1, 1],\n",
       "       [0, 0],\n",
       "       [1, 1],\n",
       "       [1, 1],\n",
       "       [1, 1],\n",
       "       [1, 1],\n",
       "       [1, 1],\n",
       "       [1, 1],\n",
       "       [1, 1],\n",
       "       [0, 0],\n",
       "       [0, 1],\n",
       "       [0, 1],\n",
       "       [0, 0],\n",
       "       [1, 0],\n",
       "       [0, 1],\n",
       "       [1, 1],\n",
       "       [0, 0],\n",
       "       [0, 1],\n",
       "       [0, 0],\n",
       "       [1, 0],\n",
       "       [1, 0],\n",
       "       [0, 0],\n",
       "       [1, 1],\n",
       "       [1, 0],\n",
       "       [1, 1],\n",
       "       [1, 1],\n",
       "       [1, 0],\n",
       "       [1, 0],\n",
       "       [1, 1],\n",
       "       [1, 1],\n",
       "       [1, 1],\n",
       "       [1, 1],\n",
       "       [0, 0],\n",
       "       [1, 0],\n",
       "       [0, 0],\n",
       "       [1, 1]], dtype=int64)"
      ]
     },
     "execution_count": 33,
     "metadata": {},
     "output_type": "execute_result"
    }
   ],
   "source": [
    "# step 2: Predict the classification model\n",
    "yestimated=LOR.predict(xtest)\n",
    "np.concatenate((yestimated.reshape(len(yestimated),1),ytest.reshape(len(ytest),1)),1)"
   ]
  },
  {
   "cell_type": "markdown",
   "id": "09a4c251",
   "metadata": {},
   "source": [
    "# Performance Matrix"
   ]
  },
  {
   "cell_type": "code",
   "execution_count": 34,
   "id": "06fd7ae7",
   "metadata": {},
   "outputs": [
    {
     "name": "stdout",
     "output_type": "stream",
     "text": [
      "[[20 10]\n",
      " [ 6 25]]\n"
     ]
    }
   ],
   "source": [
    "from sklearn.metrics import confusion_matrix\n",
    "cm=confusion_matrix(ytest,yestimated)\n",
    "print(cm)"
   ]
  },
  {
   "cell_type": "code",
   "execution_count": 35,
   "id": "a2f11aa8",
   "metadata": {},
   "outputs": [
    {
     "data": {
      "text/plain": [
       "0.7377049180327869"
      ]
     },
     "execution_count": 35,
     "metadata": {},
     "output_type": "execute_result"
    }
   ],
   "source": [
    "from sklearn.metrics import accuracy_score\n",
    "accuracy_score(ytest,yestimated)"
   ]
  },
  {
   "cell_type": "code",
   "execution_count": 36,
   "id": "e9f29fb7",
   "metadata": {},
   "outputs": [
    {
     "name": "stdout",
     "output_type": "stream",
     "text": [
      "[[20 10]\n",
      " [ 6 25]]\n",
      "0.7377049180327869\n",
      "0.7142857142857143\n"
     ]
    }
   ],
   "source": [
    "from sklearn.metrics import confusion_matrix,accuracy_score,precision_score\n",
    "cm=confusion_matrix(ytest,yestimated)\n",
    "print(cm)\n",
    "print(accuracy_score(ytest,yestimated))\n",
    "print(precision_score(ytest,yestimated))"
   ]
  },
  {
   "cell_type": "markdown",
   "id": "84f072b2",
   "metadata": {},
   "source": [
    "# Build KNN classification model"
   ]
  },
  {
   "cell_type": "code",
   "execution_count": 37,
   "id": "dc9961de",
   "metadata": {},
   "outputs": [
    {
     "data": {
      "text/plain": [
       "KNeighborsClassifier(n_neighbors=10)"
      ]
     },
     "execution_count": 37,
     "metadata": {},
     "output_type": "execute_result"
    }
   ],
   "source": [
    "#training the classification modelfrom sklearn.neighbors import KNeighborsClassifier\n",
    "from sklearn.neighbors import KNeighborsClassifier\n",
    "KC=KNeighborsClassifier(n_neighbors=10,weights='uniform',p=2)\n",
    "KC.fit(xtrain,ytrain)"
   ]
  },
  {
   "cell_type": "code",
   "execution_count": 38,
   "id": "433b08a9",
   "metadata": {},
   "outputs": [],
   "source": [
    "#testing the linear model\n",
    "yestimated=KC.predict(xtest)"
   ]
  },
  {
   "cell_type": "markdown",
   "id": "b763a914",
   "metadata": {},
   "source": [
    "# Performance matrix"
   ]
  },
  {
   "cell_type": "code",
   "execution_count": 39,
   "id": "2f51d3dc",
   "metadata": {},
   "outputs": [
    {
     "name": "stdout",
     "output_type": "stream",
     "text": [
      "[[22  8]\n",
      " [ 5 26]]\n",
      "0.7868852459016393\n",
      "0.7647058823529411\n"
     ]
    }
   ],
   "source": [
    "from sklearn.metrics import confusion_matrix,accuracy_score,precision_score\n",
    "cm=confusion_matrix(ytest,yestimated)\n",
    "print(cm)\n",
    "print(accuracy_score(ytest,yestimated))\n",
    "print(precision_score(ytest,yestimated))"
   ]
  },
  {
   "cell_type": "code",
   "execution_count": 40,
   "id": "e5b4fe27",
   "metadata": {},
   "outputs": [],
   "source": [
    "error_rate=[]\n",
    "for i in range(1,30):\n",
    "    KC=KNeighborsClassifier(n_neighbors=i)\n",
    "    KC.fit(xtrain,ytrain)\n",
    "    bpred_i=KC.predict(xtest)\n",
    "    error_rate.append(np.mean(bpred_i!=ytest))"
   ]
  },
  {
   "cell_type": "code",
   "execution_count": 41,
   "id": "54290e97",
   "metadata": {},
   "outputs": [
    {
     "data": {
      "text/plain": [
       "Text(0, 0.5, 'Error rate')"
      ]
     },
     "execution_count": 41,
     "metadata": {},
     "output_type": "execute_result"
    },
    {
     "data": {
      "image/png": "[encoded data removed]",
      "text/plain": [
       "<Figure size 432x288 with 1 Axes>"
      ]
     },
     "metadata": {
      "needs_background": "light"
     },
     "output_type": "display_data"
    }
   ],
   "source": [
    "plt.plot(range(1,30),error_rate,marker='o',markerfacecolor='red',markersize=5)\n",
    "plt.xlabel('K value')\n",
    "plt.ylabel('Error rate')"
   ]
  },
  {
   "cell_type": "code",
   "execution_count": 42,
   "id": "41fecc61",
   "metadata": {},
   "outputs": [],
   "source": [
    "acc_rate=[]\n",
    "for i in range(1,30):\n",
    "    KC=KNeighborsClassifier(n_neighbors=i)\n",
    "    KC.fit(xtrain,ytrain)\n",
    "    bpred_i=KC.predict(xtest)\n",
    "    acc_rate.append(accuracy_score(ytest,bpred_i))"
   ]
  },
  {
   "cell_type": "code",
   "execution_count": 43,
   "id": "74222149",
   "metadata": {},
   "outputs": [
    {
     "data": {
      "text/plain": [
       "[<matplotlib.lines.Line2D at 0x26b0de23af0>]"
      ]
     },
     "execution_count": 43,
     "metadata": {},
     "output_type": "execute_result"
    },
    {
     "data": {
      "image/png": "[encoded data removed]",
      "text/plain": [
       "<Figure size 432x288 with 1 Axes>"
      ]
     },
     "metadata": {
      "needs_background": "light"
     },
     "output_type": "display_data"
    }
   ],
   "source": [
    "plt.plot(range(1,30),acc_rate,marker='o',markerfacecolor='red',markersize=5)"
   ]
  },
  {
   "cell_type": "markdown",
   "id": "386bcfe6",
   "metadata": {},
   "source": [
    "# Report on The Given Project :"
   ]
  },
  {
   "cell_type": "markdown",
   "id": "a301156b",
   "metadata": {},
   "source": [
    "# 1 - Problem Formulation\n",
    "People suffer from various kinds of diseases because of their unhealthy practices in their daily lives. Such a result could be a heart attack. Can we make an appropriate machine learning model which can predict whether a person can suffer from heart attack or can’t considering the various factors which can lead to it?"
   ]
  },
  {
   "cell_type": "markdown",
   "id": "2d74cecb",
   "metadata": {},
   "source": [
    "# 2 - Algorithm followed"
   ]
  },
  {
   "cell_type": "markdown",
   "id": "5001827b",
   "metadata": {},
   "source": [
    "The following two algorithms are followed  :\n",
    "a - Logistic regression classification\n",
    "b - K nearest neighbour classification\n",
    "But in between them KNN classification is most accurate one"
   ]
  },
  {
   "cell_type": "markdown",
   "id": "ef112bf1",
   "metadata": {},
   "source": [
    "# 3 - Dataset"
   ]
  },
  {
   "cell_type": "markdown",
   "id": "de189a3b",
   "metadata": {},
   "source": [
    "heart.csv dataset is used in the algorithm.The dataset is given below-\n",
    "●\tAge: Age of the patient\n",
    "●\tSex: Sex of the patient\n",
    "●\texang: exercise induced angina (1 = yes; 0 = no)\n",
    "●\tca: number of major vessels (0-3)\n",
    "●\tcp: Chest Pain type chest pain type\n",
    "o\tValue 1: typical angina\n",
    "o\tValue 2: atypical angina\n",
    "o\tValue 3: non-anginal pain\n",
    "o\tValue 4: asymptomatic\n",
    "●\ttrtbps: resting blood pressure (in mm Hg)\n",
    "●\tchol: cholesterol in mg/dl fetched via BMI sensor\n",
    "●\tfbs: (fasting blood sugar > 120 mg/dl) (1 = true; 0 = false)\n",
    "●\trest_ecg: resting electrocardiographic results\n",
    "o\tValue 0: normal\n",
    "o\tValue 1: having ST-T wave abnormality (T wave inversions and/or ST elevation or depression of > 0.05 mV)\n",
    "o\tValue 2: showing probable or definite left ventricular hypertrophy by Estes' criteria\n",
    "●\tthalach: maximum heart rate achieved\n",
    "●\ttarget: 0= less chance of heart attack 1= more chance of heart attack\n",
    "\n"
   ]
  },
  {
   "cell_type": "markdown",
   "id": "529cb43d",
   "metadata": {},
   "source": [
    "# 4 - Results and Discussion"
   ]
  },
  {
   "cell_type": "markdown",
   "id": "91549c21",
   "metadata": {},
   "source": [
    "From the above Project it claerly shown that,the accuracy_score in logistic regression algoritm is around 0.7377049180327869 with precision score of 0.7647058823529411  and accuracy_score in KNN algorithm is around 0.7868852459016393 and precision score of 0.7647058823529411 \n",
    "Hence KNN gives much more accurate classification of the dataset 'heart.csv' than logistic regression."
   ]
  },
  {
   "cell_type": "markdown",
   "id": "fabc8608",
   "metadata": {},
   "source": [
    "# 5- References"
   ]
  },
  {
   "cell_type": "markdown",
   "id": "41b95cfd",
   "metadata": {},
   "source": [
    "The Data set used which is available at -\n",
    "https://www.kaggle.com/rashikrahmanpritom/heart-attack-analysis-prediction-dataset\n",
    "Other references are -\n",
    "https://www.w3schools.com/python/python_ml_getting_started.asp\n",
    "https://matplotlib.org/\n",
    "https://www.geeksforgeeks.org/machine-learning/"
   ]
  },
  {
   "cell_type": "code",
   "execution_count": null,
   "id": "762385f0",
   "metadata": {},
   "outputs": [],
   "source": []
  },
  {
   "cell_type": "code",
   "execution_count": null,
   "id": "e88bb9ab",
   "metadata": {},
   "outputs": [],
   "source": []
  }
 ],
 "metadata": {
  "kernelspec": {
   "display_name": "Python 3",
   "language": "python",
   "name": "python3"
  },
  "language_info": {
   "codemirror_mode": {
    "name": "ipython",
    "version": 3
   },
   "file_extension": ".py",
   "mimetype": "text/x-python",
   "name": "python",
   "nbconvert_exporter": "python",
   "pygments_lexer": "ipython3",
   "version": "3.8.8"
  }
 },
 "nbformat": 4,
 "nbformat_minor": 5
}
